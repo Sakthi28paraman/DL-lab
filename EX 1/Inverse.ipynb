{
 "cells": [
  {
   "cell_type": "code",
   "execution_count": 3,
   "metadata": {},
   "outputs": [],
   "source": [
    "import torch"
   ]
  },
  {
   "cell_type": "code",
   "execution_count": 6,
   "metadata": {},
   "outputs": [
    {
     "name": "stdout",
     "output_type": "stream",
     "text": [
      "tensor([[1, 0, 1],\n",
      "        [0, 1, 1],\n",
      "        [1, 1, 1]], dtype=torch.int32)\n",
      "3\n"
     ]
    }
   ],
   "source": [
    "A=[[1,0,1],[0,1,1],[1,1,1]]\n",
    "A=torch.tensor(A,dtype=torch.int)\n",
    "print(A)\n",
    "f,h=A.shape\n",
    "print(f)"
   ]
  },
  {
   "cell_type": "code",
   "execution_count": 7,
   "metadata": {},
   "outputs": [
    {
     "data": {
      "text/plain": [
       "tensor([[1, 0, 0],\n",
       "        [0, 1, 0],\n",
       "        [0, 0, 1]], dtype=torch.int32)"
      ]
     },
     "execution_count": 7,
     "metadata": {},
     "output_type": "execute_result"
    }
   ],
   "source": [
    "import numpy as np\n",
    "I = np.identity(n=f)\n",
    "I=torch.tensor(I,dtype=torch.int)\n",
    "I"
   ]
  },
  {
   "cell_type": "code",
   "execution_count": 8,
   "metadata": {},
   "outputs": [
    {
     "name": "stdout",
     "output_type": "stream",
     "text": [
      "tensor([[1, 0, 1, 1, 0, 0],\n",
      "        [0, 1, 1, 0, 1, 0],\n",
      "        [1, 1, 1, 0, 0, 1]], dtype=torch.int32)\n"
     ]
    }
   ],
   "source": [
    "M = np.concatenate((A,I),axis=1)\n",
    "M=torch.tensor(M,dtype=torch.int)\n",
    "print(M)"
   ]
  },
  {
   "cell_type": "code",
   "execution_count": 9,
   "metadata": {},
   "outputs": [
    {
     "name": "stdout",
     "output_type": "stream",
     "text": [
      "tensor([[ 0, -1,  1],\n",
      "        [-1,  0,  1],\n",
      "        [ 1,  1, -1]], dtype=torch.int32)\n"
     ]
    }
   ],
   "source": [
    "for i in range (0,f):\n",
    "    pivot = M[i][i]\n",
    "    row =M[i]\n",
    "    M[i] = row / pivot\n",
    "    for j in [k for k in range(0,f) if k!=i]:\n",
    "        M[j] = M[j]-M[i]*M[j][i]\n",
    "    inverse = M[:,f:]\n",
    "print(inverse)"
   ]
  }
 ],
 "metadata": {
  "kernelspec": {
   "display_name": "base",
   "language": "python",
   "name": "python3"
  },
  "language_info": {
   "codemirror_mode": {
    "name": "ipython",
    "version": 3
   },
   "file_extension": ".py",
   "mimetype": "text/x-python",
   "name": "python",
   "nbconvert_exporter": "python",
   "pygments_lexer": "ipython3",
   "version": "3.9.13 (main, Aug 25 2022, 23:51:50) [MSC v.1916 64 bit (AMD64)]"
  },
  "orig_nbformat": 4,
  "vscode": {
   "interpreter": {
    "hash": "ad2bdc8ecc057115af97d19610ffacc2b4e99fae6737bb82f5d7fb13d2f2c186"
   }
  }
 },
 "nbformat": 4,
 "nbformat_minor": 2
}
