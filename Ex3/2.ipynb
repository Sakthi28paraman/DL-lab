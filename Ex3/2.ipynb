{
 "cells": [
  {
   "cell_type": "code",
   "execution_count": 2,
   "metadata": {},
   "outputs": [],
   "source": [
    "import tensorflow as tf\n",
    "from tensorflow import keras\n",
    "from tensorflow.keras.layers import Dense\n",
    "import warnings\n",
    "warnings.filterwarnings('ignore')\n",
    "class RBFLayer(keras.layers.Layer):\n",
    "    def __init__(self,hidden_dim,s):\n",
    "        super(RBFLayer, self).__init__()\n",
    "        self.hidden_dim = hidden_dim\n",
    "        self.s = s\n",
    "        self.centers = self.add_weight(name='centers',\n",
    "                                       shape=(self.hidden_dim,10),\n",
    "                                       initializer='uniform',\n",
    "                                       trainable=True)\n",
    "    def formula(self,x,y):\n",
    "        return torch.exp(-self.s * (x - y).pow(2).sum(dim=1))\n",
    "\n",
    "    def forward(self,x):\n",
    "        a = self.formula(x, self.centers)\n",
    "        return a"
   ]
  },
  {
   "cell_type": "code",
   "execution_count": 3,
   "metadata": {},
   "outputs": [
    {
     "name": "stdout",
     "output_type": "stream",
     "text": [
      "Epoch 1/10\n",
      "WARNING:tensorflow:Gradients do not exist for variables ['centers:0'] when minimizing the loss. If you're using `model.compile()`, did you forget to provide a `loss` argument?\n",
      "WARNING:tensorflow:Gradients do not exist for variables ['centers:0'] when minimizing the loss. If you're using `model.compile()`, did you forget to provide a `loss` argument?\n",
      "WARNING:tensorflow:Gradients do not exist for variables ['centers:0'] when minimizing the loss. If you're using `model.compile()`, did you forget to provide a `loss` argument?\n",
      "WARNING:tensorflow:Gradients do not exist for variables ['centers:0'] when minimizing the loss. If you're using `model.compile()`, did you forget to provide a `loss` argument?\n",
      "4/4 [==============================] - 2s 6ms/step - loss: 0.6660\n",
      "Epoch 2/10\n",
      "4/4 [==============================] - 0s 5ms/step - loss: 0.6618\n",
      "Epoch 3/10\n",
      "4/4 [==============================] - 0s 5ms/step - loss: 0.6589\n",
      "Epoch 4/10\n",
      "4/4 [==============================] - 0s 6ms/step - loss: 0.6552\n",
      "Epoch 5/10\n",
      "4/4 [==============================] - 0s 6ms/step - loss: 0.6520\n",
      "Epoch 6/10\n",
      "4/4 [==============================] - 0s 5ms/step - loss: 0.6490\n",
      "Epoch 7/10\n",
      "4/4 [==============================] - 0s 4ms/step - loss: 0.6461\n",
      "Epoch 8/10\n",
      "4/4 [==============================] - 0s 4ms/step - loss: 0.6435\n",
      "Epoch 9/10\n",
      "4/4 [==============================] - 0s 5ms/step - loss: 0.6407\n",
      "Epoch 10/10\n",
      "4/4 [==============================] - 0s 4ms/step - loss: 0.6383\n"
     ]
    },
    {
     "data": {
      "text/plain": [
       "<keras.callbacks.History at 0x1f9042fdf70>"
      ]
     },
     "execution_count": 3,
     "metadata": {},
     "output_type": "execute_result"
    }
   ],
   "source": [
    "model = keras.Sequential([\n",
    "    Dense(10, input_shape=(2,), activation='relu'),\n",
    "    RBFLayer(10,0.02),\n",
    "    Dense(1, activation='sigmoid')\n",
    "])\n",
    "\n",
    "model.compile(loss='binary_crossentropy', optimizer='adam')\n",
    "\n",
    "import numpy as np\n",
    "X = np.random.randn(100, 2)\n",
    "y = (X[:, 0] * X[:, 1] > 0).astype(float)\n",
    "\n",
    "model.fit(X, y, epochs=10, batch_size=32)\n"
   ]
  },
  {
   "cell_type": "code",
   "execution_count": 4,
   "metadata": {},
   "outputs": [
    {
     "name": "stdout",
     "output_type": "stream",
     "text": [
      "Epoch 1/10\n",
      "4/4 [==============================] - 2s 3ms/step - loss: 0.6950\n",
      "Epoch 2/10\n",
      "4/4 [==============================] - 0s 3ms/step - loss: 0.6938\n",
      "Epoch 3/10\n",
      "4/4 [==============================] - 0s 4ms/step - loss: 0.6931\n",
      "Epoch 4/10\n",
      "4/4 [==============================] - 0s 4ms/step - loss: 0.6923\n",
      "Epoch 5/10\n",
      "4/4 [==============================] - 0s 4ms/step - loss: 0.6916\n",
      "Epoch 6/10\n",
      "4/4 [==============================] - 0s 4ms/step - loss: 0.6908\n",
      "Epoch 7/10\n",
      "4/4 [==============================] - 0s 4ms/step - loss: 0.6901\n",
      "Epoch 8/10\n",
      "4/4 [==============================] - 0s 4ms/step - loss: 0.6893\n",
      "Epoch 9/10\n",
      "4/4 [==============================] - 0s 5ms/step - loss: 0.6886\n",
      "Epoch 10/10\n",
      "4/4 [==============================] - 0s 5ms/step - loss: 0.6879\n"
     ]
    },
    {
     "data": {
      "text/plain": [
       "<keras.callbacks.History at 0x1f905574160>"
      ]
     },
     "execution_count": 4,
     "metadata": {},
     "output_type": "execute_result"
    }
   ],
   "source": [
    "# import tensorflow as tf\n",
    "# from tensorflow import keras\n",
    "# from tensorflow.keras.layers import Dense\n",
    "\n",
    "# # Define the RBF layer\n",
    "# class RBFLayer(keras.layers.Layer):\n",
    "#     def __init__(self, units, gamma, **kwargs):\n",
    "#         super(RBFLayer, self).__init__(**kwargs)\n",
    "#         self.units = units\n",
    "#         self.gamma = gamma\n",
    "\n",
    "#     def build(self, input_shape):\n",
    "#         self.centers = self.add_weight(name='centers',\n",
    "#                                        shape=(self.units, input_shape[1]),\n",
    "#                                        initializer='uniform',\n",
    "#                                        trainable=True)\n",
    "#         super(RBFLayer, self).build(input_shape)\n",
    "\n",
    "#     def call(self, inputs):\n",
    "#         diff = tf.expand_dims(inputs, axis=1) - self.centers\n",
    "#         squared_diff = tf.reduce_sum(tf.square(diff), axis=-1)\n",
    "#         return tf.exp(-self.gamma * squared_diff)\n",
    "\n",
    "# # Build the model with the RBF layer\n",
    "# model = keras.Sequential([\n",
    "#     Dense(10, input_shape=(2,), activation='relu'),\n",
    "#     RBFLayer(10, gamma=0.1),\n",
    "#     Dense(1, activation='sigmoid')\n",
    "# ])\n",
    "\n",
    "# # Compile the model with binary cross-entropy loss and Adam optimizer\n",
    "# model.compile(loss='binary_crossentropy', optimizer='adam')\n",
    "\n",
    "# # Generate some sample data\n",
    "# import numpy as np\n",
    "# X = np.random.randn(100, 2)\n",
    "# y = (X[:, 0] * X[:, 1] > 0).astype(float)\n",
    "# # Train the model\n",
    "# model.fit(X, y, epochs=10, batch_size=32)\n"
   ]
  }
 ],
 "metadata": {
  "kernelspec": {
   "display_name": "Python 3",
   "language": "python",
   "name": "python3"
  },
  "language_info": {
   "codemirror_mode": {
    "name": "ipython",
    "version": 3
   },
   "file_extension": ".py",
   "mimetype": "text/x-python",
   "name": "python",
   "nbconvert_exporter": "python",
   "pygments_lexer": "ipython3",
   "version": "3.9.11"
  },
  "orig_nbformat": 4
 },
 "nbformat": 4,
 "nbformat_minor": 2
}
